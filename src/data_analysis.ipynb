{
 "cells": [
  {
   "cell_type": "code",
   "execution_count": 132,
   "id": "453eb2e2-386f-45f9-92f6-8c001923172d",
   "metadata": {},
   "outputs": [
    {
     "name": "stdout",
     "output_type": "stream",
     "text": [
      "The autoreload extension is already loaded. To reload it, use:\n",
      "  %reload_ext autoreload\n"
     ]
    }
   ],
   "source": [
    "%load_ext autoreload\n",
    "%autoreload 2\n",
    "\n",
    "from datasets import load_dataset\n",
    "import pandas as pd\n",
    "from sentence_transformers import SentenceTransformer, util\n",
    "import re\n",
    "import numpy as np\n",
    "from statsmodels.stats.contingency_tables import cochrans_q"
   ]
  },
  {
   "cell_type": "code",
   "execution_count": 2,
   "id": "62f3c07e-0fa2-4dad-bfb7-42d944c3c483",
   "metadata": {},
   "outputs": [],
   "source": [
    "prompt_types = [\"declarative\", \"interrogative\"]"
   ]
  },
  {
   "cell_type": "code",
   "execution_count": 3,
   "id": "67cdb6e1-1c3a-47ee-8acc-5e50daa28149",
   "metadata": {},
   "outputs": [],
   "source": [
    "from scipy.stats import kendalltau\n",
    "\n",
    "def kendall_pval(x,y):\n",
    "    return kendalltau(x,y)[1]"
   ]
  },
  {
   "cell_type": "code",
   "execution_count": 4,
   "id": "07e077aa-2599-459e-a62e-89dd237cef4f",
   "metadata": {},
   "outputs": [],
   "source": [
    "def get_corr(prompt_type):\n",
    "    base_file = f\"analysis_outs/base_{prompt_type}_dev.csv\"\n",
    "    large_file = f\"analysis_outs/large_{prompt_type}_dev.csv\"\n",
    "    base_csv = pd.read_csv(base_file)\n",
    "    large_csv = pd.read_csv(large_file)\n",
    "    base_and_large = base_csv.merge(large_csv, on=\"prompt\", suffixes=[\"_base\", \"_large\"])\n",
    "    corr =  base_and_large.corr(numeric_only=True, method=\"kendall\")[\"asr_base\"][\"asr_large\"]\n",
    "    pvalue =  base_and_large.corr(method=kendall_pval, numeric_only=True)[\"asr_base\"][\"asr_large\"]\n",
    "    print(f\"{prompt_type}: {corr}, pvalue = {pvalue}\")\n",
    "    return base_and_large"
   ]
  },
  {
   "cell_type": "code",
   "execution_count": 5,
   "id": "57c516cb-c62b-4543-937c-bde4fff7ffc4",
   "metadata": {},
   "outputs": [
    {
     "name": "stdout",
     "output_type": "stream",
     "text": [
      "declarative: 0.15393939393939396, pvalue = 0.023248569802855317\n",
      "interrogative: 0.1869064457466155, pvalue = 0.005873117086478568\n"
     ]
    }
   ],
   "source": [
    "prompts = []\n",
    "for prompt_type in prompt_types:\n",
    "    df = get_corr(prompt_type)\n",
    "    prompts.extend(df[\"prompt\"].tolist())"
   ]
  },
  {
   "cell_type": "markdown",
   "id": "85879781-ddaf-4caf-a297-8bcee127611b",
   "metadata": {},
   "source": [
    "### Match back to training data"
   ]
  },
  {
   "cell_type": "code",
   "execution_count": 6,
   "id": "5a5d9050-ac1a-4569-855e-5a1377cb0043",
   "metadata": {},
   "outputs": [],
   "source": [
    "fine_tuning_data = load_dataset(\"conll2003\")[\"train\"]"
   ]
  },
  {
   "cell_type": "code",
   "execution_count": 7,
   "id": "08ac33ac-757a-40b4-b6a2-b71ada263cd6",
   "metadata": {},
   "outputs": [],
   "source": [
    "model = SentenceTransformer(\"all-mpnet-base-v2\")"
   ]
  },
  {
   "cell_type": "code",
   "execution_count": 8,
   "id": "5784204b-5297-4817-b8d3-0c490a415f42",
   "metadata": {},
   "outputs": [],
   "source": [
    "prompts = [p.replace(\"MASK\", \"[MASK]\") for p in prompts]"
   ]
  },
  {
   "cell_type": "code",
   "execution_count": 9,
   "id": "c1022259-cfca-4af0-9d56-00cd5d759ce1",
   "metadata": {},
   "outputs": [],
   "source": [
    "prompts_embeddings = model.encode(prompts, convert_to_tensor=True)"
   ]
  },
  {
   "cell_type": "code",
   "execution_count": 40,
   "id": "2aeb5365-abfb-4793-a111-c657b6c58951",
   "metadata": {},
   "outputs": [],
   "source": [
    "sentences = [\" \".join([token if tag not in [1,2] else \"[MASK]\" for token, tag in zip(x[\"tokens\"], x[\"ner_tags\"])]) for x in fine_tuning_data]"
   ]
  },
  {
   "cell_type": "code",
   "execution_count": 42,
   "id": "be59b026-36bf-440a-859f-553852cea61e",
   "metadata": {},
   "outputs": [],
   "source": [
    "sentences = [re.sub(r\"(\\[MASK\\]( \\[MASK\\])+)\", \"[MASK]\", s) for s in sentences]"
   ]
  },
  {
   "cell_type": "code",
   "execution_count": 44,
   "id": "783ebec9-720e-4acd-97fa-4876a003caf4",
   "metadata": {},
   "outputs": [],
   "source": [
    "sentence_embeddings =  model.encode(sentences, convert_to_tensor=True)"
   ]
  },
  {
   "cell_type": "code",
   "execution_count": 45,
   "id": "b8a2318d-8c94-40d8-b5b8-bc2a572c3925",
   "metadata": {},
   "outputs": [],
   "source": [
    "cosine_scores = util.cos_sim(prompts_embeddings, sentence_embeddings)"
   ]
  },
  {
   "cell_type": "code",
   "execution_count": 47,
   "id": "e455c5b9-2681-450b-bdf6-4945b3eb9ebb",
   "metadata": {},
   "outputs": [],
   "source": [
    "max_sim = cosine_scores.max(1)"
   ]
  },
  {
   "cell_type": "code",
   "execution_count": 48,
   "id": "a8ff01d9-dd9f-4dd8-bfab-0c995c19b972",
   "metadata": {},
   "outputs": [],
   "source": [
    "mean_sim = cosine_scores.mean(1)"
   ]
  },
  {
   "cell_type": "code",
   "execution_count": 49,
   "id": "5767f4ea-590e-4a9e-b618-5d24ec2a40d8",
   "metadata": {},
   "outputs": [
    {
     "name": "stdout",
     "output_type": "stream",
     "text": [
      "declarative: 0.15393939393939396, pvalue = 0.023248569802855317\n"
     ]
    }
   ],
   "source": [
    "df = get_corr(\"declarative\")"
   ]
  },
  {
   "cell_type": "code",
   "execution_count": 51,
   "id": "1e387048-676a-474a-9464-1c5359575f8c",
   "metadata": {},
   "outputs": [],
   "source": [
    "df[\"mean_cosine_sim\"] = mean_sim[:100].tolist()"
   ]
  },
  {
   "cell_type": "code",
   "execution_count": 52,
   "id": "1592889b-60ae-48ee-bd5b-4c010088a058",
   "metadata": {},
   "outputs": [],
   "source": [
    "df[\"max_cosine_sim\"] = max_sim.values[:100].tolist()"
   ]
  },
  {
   "cell_type": "code",
   "execution_count": 53,
   "id": "e5387dab-71e0-4f4e-9ea4-0a11afafff07",
   "metadata": {},
   "outputs": [
    {
     "data": {
      "text/html": [
       "<div>\n",
       "<style scoped>\n",
       "    .dataframe tbody tr th:only-of-type {\n",
       "        vertical-align: middle;\n",
       "    }\n",
       "\n",
       "    .dataframe tbody tr th {\n",
       "        vertical-align: top;\n",
       "    }\n",
       "\n",
       "    .dataframe thead th {\n",
       "        text-align: right;\n",
       "    }\n",
       "</style>\n",
       "<table border=\"1\" class=\"dataframe\">\n",
       "  <thead>\n",
       "    <tr style=\"text-align: right;\">\n",
       "      <th></th>\n",
       "      <th>Unnamed: 0_base</th>\n",
       "      <th>asr_base</th>\n",
       "      <th>Unnamed: 0_large</th>\n",
       "      <th>asr_large</th>\n",
       "      <th>mean_cosine_sim</th>\n",
       "      <th>max_cosine_sim</th>\n",
       "    </tr>\n",
       "  </thead>\n",
       "  <tbody>\n",
       "    <tr>\n",
       "      <th>Unnamed: 0_base</th>\n",
       "      <td>1.000000</td>\n",
       "      <td>0.097374</td>\n",
       "      <td>1.000000</td>\n",
       "      <td>-0.018182</td>\n",
       "      <td>-0.021010</td>\n",
       "      <td>-0.136970</td>\n",
       "    </tr>\n",
       "    <tr>\n",
       "      <th>asr_base</th>\n",
       "      <td>0.097374</td>\n",
       "      <td>1.000000</td>\n",
       "      <td>0.097374</td>\n",
       "      <td>0.153939</td>\n",
       "      <td>0.000000</td>\n",
       "      <td>0.056970</td>\n",
       "    </tr>\n",
       "    <tr>\n",
       "      <th>Unnamed: 0_large</th>\n",
       "      <td>1.000000</td>\n",
       "      <td>0.097374</td>\n",
       "      <td>1.000000</td>\n",
       "      <td>-0.018182</td>\n",
       "      <td>-0.021010</td>\n",
       "      <td>-0.136970</td>\n",
       "    </tr>\n",
       "    <tr>\n",
       "      <th>asr_large</th>\n",
       "      <td>-0.018182</td>\n",
       "      <td>0.153939</td>\n",
       "      <td>-0.018182</td>\n",
       "      <td>1.000000</td>\n",
       "      <td>-0.013737</td>\n",
       "      <td>0.171717</td>\n",
       "    </tr>\n",
       "    <tr>\n",
       "      <th>mean_cosine_sim</th>\n",
       "      <td>-0.021010</td>\n",
       "      <td>0.000000</td>\n",
       "      <td>-0.021010</td>\n",
       "      <td>-0.013737</td>\n",
       "      <td>1.000000</td>\n",
       "      <td>0.176970</td>\n",
       "    </tr>\n",
       "    <tr>\n",
       "      <th>max_cosine_sim</th>\n",
       "      <td>-0.136970</td>\n",
       "      <td>0.056970</td>\n",
       "      <td>-0.136970</td>\n",
       "      <td>0.171717</td>\n",
       "      <td>0.176970</td>\n",
       "      <td>1.000000</td>\n",
       "    </tr>\n",
       "  </tbody>\n",
       "</table>\n",
       "</div>"
      ],
      "text/plain": [
       "                  Unnamed: 0_base  asr_base  Unnamed: 0_large  asr_large  \\\n",
       "Unnamed: 0_base          1.000000  0.097374          1.000000  -0.018182   \n",
       "asr_base                 0.097374  1.000000          0.097374   0.153939   \n",
       "Unnamed: 0_large         1.000000  0.097374          1.000000  -0.018182   \n",
       "asr_large               -0.018182  0.153939         -0.018182   1.000000   \n",
       "mean_cosine_sim         -0.021010  0.000000         -0.021010  -0.013737   \n",
       "max_cosine_sim          -0.136970  0.056970         -0.136970   0.171717   \n",
       "\n",
       "                  mean_cosine_sim  max_cosine_sim  \n",
       "Unnamed: 0_base         -0.021010       -0.136970  \n",
       "asr_base                 0.000000        0.056970  \n",
       "Unnamed: 0_large        -0.021010       -0.136970  \n",
       "asr_large               -0.013737        0.171717  \n",
       "mean_cosine_sim          1.000000        0.176970  \n",
       "max_cosine_sim           0.176970        1.000000  "
      ]
     },
     "execution_count": 53,
     "metadata": {},
     "output_type": "execute_result"
    }
   ],
   "source": [
    "df.corr(numeric_only=True, method=\"kendall\")"
   ]
  },
  {
   "cell_type": "code",
   "execution_count": 70,
   "id": "b228fc29-691a-434a-8556-e1ab912bba85",
   "metadata": {},
   "outputs": [
    {
     "data": {
      "text/html": [
       "<div>\n",
       "<style scoped>\n",
       "    .dataframe tbody tr th:only-of-type {\n",
       "        vertical-align: middle;\n",
       "    }\n",
       "\n",
       "    .dataframe tbody tr th {\n",
       "        vertical-align: top;\n",
       "    }\n",
       "\n",
       "    .dataframe thead th {\n",
       "        text-align: right;\n",
       "    }\n",
       "</style>\n",
       "<table border=\"1\" class=\"dataframe\">\n",
       "  <thead>\n",
       "    <tr style=\"text-align: right;\">\n",
       "      <th></th>\n",
       "      <th>Unnamed: 0_base</th>\n",
       "      <th>asr_base</th>\n",
       "      <th>Unnamed: 0_large</th>\n",
       "      <th>asr_large</th>\n",
       "      <th>mean_cosine_diff</th>\n",
       "      <th>max_cosine_sim</th>\n",
       "    </tr>\n",
       "  </thead>\n",
       "  <tbody>\n",
       "    <tr>\n",
       "      <th>Unnamed: 0_base</th>\n",
       "      <td>False</td>\n",
       "      <td>True</td>\n",
       "      <td>True</td>\n",
       "      <td>False</td>\n",
       "      <td>False</td>\n",
       "      <td>True</td>\n",
       "    </tr>\n",
       "    <tr>\n",
       "      <th>asr_base</th>\n",
       "      <td>True</td>\n",
       "      <td>False</td>\n",
       "      <td>True</td>\n",
       "      <td>True</td>\n",
       "      <td>False</td>\n",
       "      <td>False</td>\n",
       "    </tr>\n",
       "    <tr>\n",
       "      <th>Unnamed: 0_large</th>\n",
       "      <td>True</td>\n",
       "      <td>True</td>\n",
       "      <td>False</td>\n",
       "      <td>False</td>\n",
       "      <td>False</td>\n",
       "      <td>True</td>\n",
       "    </tr>\n",
       "    <tr>\n",
       "      <th>asr_large</th>\n",
       "      <td>False</td>\n",
       "      <td>True</td>\n",
       "      <td>False</td>\n",
       "      <td>False</td>\n",
       "      <td>False</td>\n",
       "      <td>False</td>\n",
       "    </tr>\n",
       "    <tr>\n",
       "      <th>mean_cosine_diff</th>\n",
       "      <td>False</td>\n",
       "      <td>False</td>\n",
       "      <td>False</td>\n",
       "      <td>False</td>\n",
       "      <td>False</td>\n",
       "      <td>True</td>\n",
       "    </tr>\n",
       "    <tr>\n",
       "      <th>max_cosine_sim</th>\n",
       "      <td>True</td>\n",
       "      <td>False</td>\n",
       "      <td>True</td>\n",
       "      <td>False</td>\n",
       "      <td>True</td>\n",
       "      <td>False</td>\n",
       "    </tr>\n",
       "  </tbody>\n",
       "</table>\n",
       "</div>"
      ],
      "text/plain": [
       "                  Unnamed: 0_base  asr_base  Unnamed: 0_large  asr_large  \\\n",
       "Unnamed: 0_base             False      True              True      False   \n",
       "asr_base                     True     False              True       True   \n",
       "Unnamed: 0_large             True      True             False      False   \n",
       "asr_large                   False      True             False      False   \n",
       "mean_cosine_diff            False     False             False      False   \n",
       "max_cosine_sim               True     False              True      False   \n",
       "\n",
       "                  mean_cosine_diff  max_cosine_sim  \n",
       "Unnamed: 0_base              False            True  \n",
       "asr_base                     False           False  \n",
       "Unnamed: 0_large             False            True  \n",
       "asr_large                    False           False  \n",
       "mean_cosine_diff             False            True  \n",
       "max_cosine_sim                True           False  "
      ]
     },
     "execution_count": 70,
     "metadata": {},
     "output_type": "execute_result"
    }
   ],
   "source": [
    "df.corr(numeric_only=True, method=kendall_pval) <.05"
   ]
  },
  {
   "cell_type": "code",
   "execution_count": 55,
   "id": "42ea071a-d794-41d9-bbda-edfd7a1ef085",
   "metadata": {},
   "outputs": [
    {
     "name": "stdout",
     "output_type": "stream",
     "text": [
      "interrogative: 0.1869064457466155, pvalue = 0.005873117086478568\n"
     ]
    }
   ],
   "source": [
    "df = get_corr(\"interrogative\")"
   ]
  },
  {
   "cell_type": "code",
   "execution_count": 57,
   "id": "951d6495-aa84-41ff-9ec8-3d5d2e0e7e3d",
   "metadata": {},
   "outputs": [],
   "source": [
    "df[\"mean_cosine_diff\"] = mean_sim[100:].tolist()"
   ]
  },
  {
   "cell_type": "code",
   "execution_count": 58,
   "id": "5c64001a-1139-40b8-996d-85ce68b38611",
   "metadata": {},
   "outputs": [],
   "source": [
    "df[\"max_cosine_sim\"] = max_sim.values[100:].tolist()"
   ]
  },
  {
   "cell_type": "code",
   "execution_count": 59,
   "id": "35305910-277e-4b33-b0ad-d48b520b5504",
   "metadata": {},
   "outputs": [
    {
     "data": {
      "text/html": [
       "<div>\n",
       "<style scoped>\n",
       "    .dataframe tbody tr th:only-of-type {\n",
       "        vertical-align: middle;\n",
       "    }\n",
       "\n",
       "    .dataframe tbody tr th {\n",
       "        vertical-align: top;\n",
       "    }\n",
       "\n",
       "    .dataframe thead th {\n",
       "        text-align: right;\n",
       "    }\n",
       "</style>\n",
       "<table border=\"1\" class=\"dataframe\">\n",
       "  <thead>\n",
       "    <tr style=\"text-align: right;\">\n",
       "      <th></th>\n",
       "      <th>Unnamed: 0_base</th>\n",
       "      <th>asr_base</th>\n",
       "      <th>Unnamed: 0_large</th>\n",
       "      <th>asr_large</th>\n",
       "      <th>mean_cosine_diff</th>\n",
       "      <th>max_cosine_sim</th>\n",
       "    </tr>\n",
       "  </thead>\n",
       "  <tbody>\n",
       "    <tr>\n",
       "      <th>Unnamed: 0_base</th>\n",
       "      <td>1.000000</td>\n",
       "      <td>-0.173149</td>\n",
       "      <td>1.000000</td>\n",
       "      <td>-0.097990</td>\n",
       "      <td>0.042226</td>\n",
       "      <td>-0.159410</td>\n",
       "    </tr>\n",
       "    <tr>\n",
       "      <th>asr_base</th>\n",
       "      <td>-0.173149</td>\n",
       "      <td>1.000000</td>\n",
       "      <td>-0.173149</td>\n",
       "      <td>0.186906</td>\n",
       "      <td>0.005456</td>\n",
       "      <td>-0.041827</td>\n",
       "    </tr>\n",
       "    <tr>\n",
       "      <th>Unnamed: 0_large</th>\n",
       "      <td>1.000000</td>\n",
       "      <td>-0.173149</td>\n",
       "      <td>1.000000</td>\n",
       "      <td>-0.097990</td>\n",
       "      <td>0.042226</td>\n",
       "      <td>-0.159410</td>\n",
       "    </tr>\n",
       "    <tr>\n",
       "      <th>asr_large</th>\n",
       "      <td>-0.097990</td>\n",
       "      <td>0.186906</td>\n",
       "      <td>-0.097990</td>\n",
       "      <td>1.000000</td>\n",
       "      <td>-0.060012</td>\n",
       "      <td>-0.056375</td>\n",
       "    </tr>\n",
       "    <tr>\n",
       "      <th>mean_cosine_diff</th>\n",
       "      <td>0.042226</td>\n",
       "      <td>0.005456</td>\n",
       "      <td>0.042226</td>\n",
       "      <td>-0.060012</td>\n",
       "      <td>1.000000</td>\n",
       "      <td>0.399071</td>\n",
       "    </tr>\n",
       "    <tr>\n",
       "      <th>max_cosine_sim</th>\n",
       "      <td>-0.159410</td>\n",
       "      <td>-0.041827</td>\n",
       "      <td>-0.159410</td>\n",
       "      <td>-0.056375</td>\n",
       "      <td>0.399071</td>\n",
       "      <td>1.000000</td>\n",
       "    </tr>\n",
       "  </tbody>\n",
       "</table>\n",
       "</div>"
      ],
      "text/plain": [
       "                  Unnamed: 0_base  asr_base  Unnamed: 0_large  asr_large  \\\n",
       "Unnamed: 0_base          1.000000 -0.173149          1.000000  -0.097990   \n",
       "asr_base                -0.173149  1.000000         -0.173149   0.186906   \n",
       "Unnamed: 0_large         1.000000 -0.173149          1.000000  -0.097990   \n",
       "asr_large               -0.097990  0.186906         -0.097990   1.000000   \n",
       "mean_cosine_diff         0.042226  0.005456          0.042226  -0.060012   \n",
       "max_cosine_sim          -0.159410 -0.041827         -0.159410  -0.056375   \n",
       "\n",
       "                  mean_cosine_diff  max_cosine_sim  \n",
       "Unnamed: 0_base           0.042226       -0.159410  \n",
       "asr_base                  0.005456       -0.041827  \n",
       "Unnamed: 0_large          0.042226       -0.159410  \n",
       "asr_large                -0.060012       -0.056375  \n",
       "mean_cosine_diff          1.000000        0.399071  \n",
       "max_cosine_sim            0.399071        1.000000  "
      ]
     },
     "execution_count": 59,
     "metadata": {},
     "output_type": "execute_result"
    }
   ],
   "source": [
    "df.corr(numeric_only=True, method=\"kendall\")"
   ]
  },
  {
   "cell_type": "code",
   "execution_count": 60,
   "id": "7b7b0f48-8c9a-4fe3-aa56-3c0e6ee3d5bf",
   "metadata": {},
   "outputs": [
    {
     "data": {
      "text/html": [
       "<div>\n",
       "<style scoped>\n",
       "    .dataframe tbody tr th:only-of-type {\n",
       "        vertical-align: middle;\n",
       "    }\n",
       "\n",
       "    .dataframe tbody tr th {\n",
       "        vertical-align: top;\n",
       "    }\n",
       "\n",
       "    .dataframe thead th {\n",
       "        text-align: right;\n",
       "    }\n",
       "</style>\n",
       "<table border=\"1\" class=\"dataframe\">\n",
       "  <thead>\n",
       "    <tr style=\"text-align: right;\">\n",
       "      <th></th>\n",
       "      <th>Unnamed: 0_base</th>\n",
       "      <th>asr_base</th>\n",
       "      <th>Unnamed: 0_large</th>\n",
       "      <th>asr_large</th>\n",
       "      <th>mean_cosine_diff</th>\n",
       "      <th>max_cosine_sim</th>\n",
       "    </tr>\n",
       "  </thead>\n",
       "  <tbody>\n",
       "    <tr>\n",
       "      <th>Unnamed: 0_base</th>\n",
       "      <td>False</td>\n",
       "      <td>True</td>\n",
       "      <td>True</td>\n",
       "      <td>False</td>\n",
       "      <td>False</td>\n",
       "      <td>True</td>\n",
       "    </tr>\n",
       "    <tr>\n",
       "      <th>asr_base</th>\n",
       "      <td>True</td>\n",
       "      <td>False</td>\n",
       "      <td>True</td>\n",
       "      <td>True</td>\n",
       "      <td>False</td>\n",
       "      <td>False</td>\n",
       "    </tr>\n",
       "    <tr>\n",
       "      <th>Unnamed: 0_large</th>\n",
       "      <td>True</td>\n",
       "      <td>True</td>\n",
       "      <td>False</td>\n",
       "      <td>False</td>\n",
       "      <td>False</td>\n",
       "      <td>True</td>\n",
       "    </tr>\n",
       "    <tr>\n",
       "      <th>asr_large</th>\n",
       "      <td>False</td>\n",
       "      <td>True</td>\n",
       "      <td>False</td>\n",
       "      <td>False</td>\n",
       "      <td>False</td>\n",
       "      <td>False</td>\n",
       "    </tr>\n",
       "    <tr>\n",
       "      <th>mean_cosine_diff</th>\n",
       "      <td>False</td>\n",
       "      <td>False</td>\n",
       "      <td>False</td>\n",
       "      <td>False</td>\n",
       "      <td>False</td>\n",
       "      <td>True</td>\n",
       "    </tr>\n",
       "    <tr>\n",
       "      <th>max_cosine_sim</th>\n",
       "      <td>True</td>\n",
       "      <td>False</td>\n",
       "      <td>True</td>\n",
       "      <td>False</td>\n",
       "      <td>True</td>\n",
       "      <td>False</td>\n",
       "    </tr>\n",
       "  </tbody>\n",
       "</table>\n",
       "</div>"
      ],
      "text/plain": [
       "                  Unnamed: 0_base  asr_base  Unnamed: 0_large  asr_large  \\\n",
       "Unnamed: 0_base             False      True              True      False   \n",
       "asr_base                     True     False              True       True   \n",
       "Unnamed: 0_large             True      True             False      False   \n",
       "asr_large                   False      True             False      False   \n",
       "mean_cosine_diff            False     False             False      False   \n",
       "max_cosine_sim               True     False              True      False   \n",
       "\n",
       "                  mean_cosine_diff  max_cosine_sim  \n",
       "Unnamed: 0_base              False            True  \n",
       "asr_base                     False           False  \n",
       "Unnamed: 0_large             False            True  \n",
       "asr_large                    False           False  \n",
       "mean_cosine_diff             False            True  \n",
       "max_cosine_sim                True           False  "
      ]
     },
     "execution_count": 60,
     "metadata": {},
     "output_type": "execute_result"
    }
   ],
   "source": [
    "df.corr(numeric_only=True, method=kendall_pval)<.05"
   ]
  },
  {
   "cell_type": "markdown",
   "id": "5655103a-d19f-4f85-a302-f5c0ea0be5bd",
   "metadata": {},
   "source": [
    "### Statistical significance testing"
   ]
  },
  {
   "cell_type": "code",
   "execution_count": 118,
   "id": "e8f5ebed-fb3b-40ec-932c-e68c17e4681a",
   "metadata": {},
   "outputs": [],
   "source": [
    "preds = pd.read_csv(\"model_predictions/base_interrogative_dev.csv\")"
   ]
  },
  {
   "cell_type": "code",
   "execution_count": 120,
   "id": "fae88ad2-6960-4e52-a7d2-f15bfe342d03",
   "metadata": {},
   "outputs": [],
   "source": [
    "a = list(range(10))"
   ]
  },
  {
   "cell_type": "code",
   "execution_count": 122,
   "id": "c7ad406a-631e-44de-8ee6-9e9c3155dff0",
   "metadata": {},
   "outputs": [
    {
     "data": {
      "text/plain": [
       "[0, 2, 4, 6, 8]"
      ]
     },
     "execution_count": 122,
     "metadata": {},
     "output_type": "execute_result"
    }
   ],
   "source": [
    "a[::2]"
   ]
  },
  {
   "cell_type": "code",
   "execution_count": 126,
   "id": "9cda36dc-bf5a-4ec5-b609-59ae07a4f033",
   "metadata": {},
   "outputs": [],
   "source": [
    "success_dict = {}\n",
    "for p, df in preds.groupby(\"prompt\"):\n",
    "    confs_negative = df[\"confidence\"][::2]\n",
    "    confs_positive = df[\"confidence\"][1::2]\n",
    "    diff = np.array(confs_positive) - np.array(confs_negative)\n",
    "    success_dict[p] = (diff > 0).astype(int)"
   ]
  },
  {
   "cell_type": "code",
   "execution_count": 129,
   "id": "3d2b9159-17c9-46cd-b946-f2b01d68d4f1",
   "metadata": {},
   "outputs": [],
   "source": [
    "base_interrogative = pd.DataFrame.from_dict(success_dict)"
   ]
  },
  {
   "cell_type": "code",
   "execution_count": 134,
   "id": "c8b459ec-f0a1-4190-aa60-a2333b46de2c",
   "metadata": {},
   "outputs": [
    {
     "name": "stdout",
     "output_type": "stream",
     "text": [
      "df          99\n",
      "pvalue      0.0001310175007316223\n",
      "statistic   158.73307190040165\n"
     ]
    }
   ],
   "source": [
    "print(cochrans_q(base_interrogative))"
   ]
  },
  {
   "cell_type": "code",
   "execution_count": 135,
   "id": "cb67173b-60a9-478c-802c-af8a7febc5cb",
   "metadata": {},
   "outputs": [],
   "source": [
    "preds = pd.read_csv(\"model_predictions/large_interrogative_dev.csv\")"
   ]
  },
  {
   "cell_type": "code",
   "execution_count": 138,
   "id": "d346b325-6167-43c1-aa9f-5162088cdcd3",
   "metadata": {},
   "outputs": [],
   "source": [
    "success_dict = {}\n",
    "for p, df in preds.groupby(\"prompt\"):\n",
    "    confs_negative = df[\"confidence\"][::2]\n",
    "    confs_positive = df[\"confidence\"][1::2]\n",
    "    diff = np.array(confs_positive) - np.array(confs_negative)\n",
    "    success_dict[p] = (diff > 0).astype(int)"
   ]
  },
  {
   "cell_type": "code",
   "execution_count": 139,
   "id": "0404679f-6e20-41b9-a490-73afcae9e22e",
   "metadata": {},
   "outputs": [],
   "source": [
    "base_interrogative = pd.DataFrame.from_dict(success_dict)"
   ]
  },
  {
   "cell_type": "code",
   "execution_count": 140,
   "id": "67eeb06f-4cf7-4319-b650-8f4aa4243e81",
   "metadata": {},
   "outputs": [
    {
     "name": "stdout",
     "output_type": "stream",
     "text": [
      "df          99\n",
      "pvalue      0.07421406943730144\n",
      "statistic   120.00339117616446\n"
     ]
    }
   ],
   "source": [
    "print(cochrans_q(base_interrogative))"
   ]
  },
  {
   "cell_type": "code",
   "execution_count": 141,
   "id": "a7fae1ec-93d7-4feb-89a3-6d23b661a359",
   "metadata": {},
   "outputs": [],
   "source": [
    "preds = pd.read_csv(\"model_predictions/base_declarative_dev.csv\")"
   ]
  },
  {
   "cell_type": "code",
   "execution_count": 142,
   "id": "f42f7003-cb86-4362-bfad-6613a8a6420e",
   "metadata": {},
   "outputs": [],
   "source": [
    "success_dict = {}\n",
    "for p, df in preds.groupby(\"prompt\"):\n",
    "    confs_negative = df[\"confidence\"][::2]\n",
    "    confs_positive = df[\"confidence\"][1::2]\n",
    "    diff = np.array(confs_positive) - np.array(confs_negative)\n",
    "    success_dict[p] = (diff > 0).astype(int)"
   ]
  },
  {
   "cell_type": "code",
   "execution_count": 143,
   "id": "70d8c7b7-d603-4857-977d-eaeee8f643b6",
   "metadata": {},
   "outputs": [],
   "source": [
    "base_interrogative = pd.DataFrame.from_dict(success_dict)"
   ]
  },
  {
   "cell_type": "code",
   "execution_count": 144,
   "id": "4784cdb8-6b7f-48c8-8999-5b6300b27b4f",
   "metadata": {},
   "outputs": [
    {
     "name": "stdout",
     "output_type": "stream",
     "text": [
      "df          99\n",
      "pvalue      2.045610775006272e-14\n",
      "statistic   245.30253081243512\n"
     ]
    }
   ],
   "source": [
    "print(cochrans_q(base_interrogative))"
   ]
  },
  {
   "cell_type": "code",
   "execution_count": 149,
   "id": "e62ee37f-6e35-491f-98aa-97e02ad00be0",
   "metadata": {},
   "outputs": [],
   "source": [
    "preds = pd.read_csv(\"model_predictions/large_declarative_dev.csv\")"
   ]
  },
  {
   "cell_type": "code",
   "execution_count": 150,
   "id": "9285eaeb-3b8c-471a-8efa-25dfd2367d89",
   "metadata": {},
   "outputs": [],
   "source": [
    "success_dict = {}\n",
    "for p, df in preds.groupby(\"prompt\"):\n",
    "    confs_negative = df[\"confidence\"][::2]\n",
    "    confs_positive = df[\"confidence\"][1::2]\n",
    "    diff = np.array(confs_positive) - np.array(confs_negative)\n",
    "    success_dict[p] = (diff > 0).astype(int)"
   ]
  },
  {
   "cell_type": "code",
   "execution_count": 151,
   "id": "a394bb42-58a3-418b-a6f8-4ae4b2bbbd1e",
   "metadata": {},
   "outputs": [],
   "source": [
    "base_interrogative = pd.DataFrame.from_dict(success_dict)"
   ]
  },
  {
   "cell_type": "code",
   "execution_count": 152,
   "id": "f6b6c076-4b78-40b4-91c8-a0e4d5694be5",
   "metadata": {},
   "outputs": [
    {
     "name": "stdout",
     "output_type": "stream",
     "text": [
      "df          99\n",
      "pvalue      0.0008216197121684023\n",
      "statistic   149.29472699624458\n"
     ]
    }
   ],
   "source": [
    "print(cochrans_q(base_interrogative))"
   ]
  },
  {
   "cell_type": "code",
   "execution_count": null,
   "id": "f357b7ee-d73a-4420-8225-fa1573799bf0",
   "metadata": {},
   "outputs": [],
   "source": []
  }
 ],
 "metadata": {
  "kernelspec": {
   "display_name": "clustering-vqa",
   "language": "python",
   "name": "clustering-vqa"
  },
  "language_info": {
   "codemirror_mode": {
    "name": "ipython",
    "version": 3
   },
   "file_extension": ".py",
   "mimetype": "text/x-python",
   "name": "python",
   "nbconvert_exporter": "python",
   "pygments_lexer": "ipython3",
   "version": "3.11.5"
  }
 },
 "nbformat": 4,
 "nbformat_minor": 5
}
